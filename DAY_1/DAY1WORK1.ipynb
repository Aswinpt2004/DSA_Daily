{
 "cells": [
  {
   "cell_type": "markdown",
   "id": "5bef0aae",
   "metadata": {},
   "source": [
    "Write a program to take two numbers as input and print their sum, difference, product, and division."
   ]
  },
  {
   "cell_type": "code",
   "execution_count": 1,
   "id": "db6eea0b",
   "metadata": {},
   "outputs": [
    {
     "name": "stdout",
     "output_type": "stream",
     "text": [
      " sum = 66\n",
      " difference = 0\n",
      " product = 1089\n",
      " division = 1.0\n"
     ]
    }
   ],
   "source": [
    "a = int(input( \"enter first number : \"  ))\n",
    "b = int(input(\"enter second number : \"))\n",
    "\n",
    "sum = a+b\n",
    "difference = a-b\n",
    "product = a*b\n",
    "division = a/b \n",
    "\n",
    "print(\" sum =\",sum)\n",
    "print(\" difference =\",difference)\n",
    "print(\" product =\",product)\n",
    "print(\" division =\",division)"
   ]
  },
  {
   "cell_type": "markdown",
   "id": "f2af4f45",
   "metadata": {},
   "source": [
    "Take a number as input and check if it is even or odd."
   ]
  },
  {
   "cell_type": "code",
   "execution_count": 2,
   "id": "0407676c",
   "metadata": {},
   "outputs": [
    {
     "name": "stdout",
     "output_type": "stream",
     "text": [
      "odd\n"
     ]
    }
   ],
   "source": [
    "a = int(input( \"enter number : \"  ))\n",
    "\n",
    "if a % 2 == 0:\n",
    "    print(\"even\")\n",
    "else:\n",
    "    print(\"odd\")"
   ]
  }
 ],
 "metadata": {
  "kernelspec": {
   "display_name": "Python 3",
   "language": "python",
   "name": "python3"
  },
  "language_info": {
   "codemirror_mode": {
    "name": "ipython",
    "version": 3
   },
   "file_extension": ".py",
   "mimetype": "text/x-python",
   "name": "python",
   "nbconvert_exporter": "python",
   "pygments_lexer": "ipython3",
   "version": "3.12.6"
  }
 },
 "nbformat": 4,
 "nbformat_minor": 5
}
