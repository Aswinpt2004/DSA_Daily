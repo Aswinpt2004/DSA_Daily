{
 "cells": [
  {
   "cell_type": "markdown",
   "id": "5bef0aae",
   "metadata": {},
   "source": [
    "Write a program to take two numbers as input and print their sum, difference, product, and division."
   ]
  },
  {
   "cell_type": "code",
   "execution_count": 3,
   "id": "db6eea0b",
   "metadata": {},
   "outputs": [
    {
     "name": "stdout",
     "output_type": "stream",
     "text": [
      "first number is : 22\n",
      "second number is : 55\n",
      " sum = 77\n",
      " difference = -33\n",
      " product = 1210\n",
      " division = 0.4\n"
     ]
    }
   ],
   "source": [
    "a = int(input( \"enter first number : \"  ))\n",
    "b = int(input(\"enter second number : \"))\n",
    "print(\"first number is :\",a)\n",
    "print(\"second number is :\",b)\n",
    "\n",
    "sum = a+b\n",
    "difference = a-b\n",
    "product = a*b\n",
    "division = a/b \n",
    "\n",
    "print(\" sum =\",sum)\n",
    "print(\" difference =\",difference)\n",
    "print(\" product =\",product)\n",
    "print(\" division =\",division)"
   ]
  },
  {
   "cell_type": "markdown",
   "id": "f2af4f45",
   "metadata": {},
   "source": [
    "Take a number as input and check if it is even or odd."
   ]
  },
  {
   "cell_type": "code",
   "execution_count": 4,
   "id": "0407676c",
   "metadata": {},
   "outputs": [
    {
     "name": "stdout",
     "output_type": "stream",
     "text": [
      "number is : 23\n",
      "odd\n"
     ]
    }
   ],
   "source": [
    "a = int(input( \"enter number : \"  ))\n",
    "print(\"number is :\",a)\n",
    "\n",
    "if a % 2 == 0:\n",
    "    print(\"even\")\n",
    "else:\n",
    "    print(\"odd\")"
   ]
  },
  {
   "cell_type": "markdown",
   "id": "85b95392",
   "metadata": {},
   "source": [
    "Write a program to ask the user’s name and age, and print:\n",
    "\n",
    "\"You are eligible to vote\" if age ≥ 18\n",
    "\n",
    "Otherwise \"You are not eligible to vote\""
   ]
  },
  {
   "cell_type": "code",
   "execution_count": 5,
   "id": "30094783",
   "metadata": {},
   "outputs": [
    {
     "name": "stdout",
     "output_type": "stream",
     "text": [
      "Your name is : ASWIN\n",
      "Your age is : 21\n",
      "You are eligible to vote\n"
     ]
    }
   ],
   "source": [
    "name = input(\"Enter your nmae : \")\n",
    "age = int(input(\"Enter your age : \"))\n",
    "print(\"Your name is :\",name)\n",
    "print(\"Your age is :\",age)\n",
    "\n",
    "if age >= 18:\n",
    "    print(\"You are eligible to vote\")   \n",
    "else:\n",
    "    print(\"You are not eligible to vote\")"
   ]
  },
  {
   "cell_type": "markdown",
   "id": "b005b3d3",
   "metadata": {},
   "source": [
    "Write a Python program that:\n",
    "\n",
    "Asks the user to enter three numbers.\n",
    "\n",
    "Prints the largest of the three."
   ]
  },
  {
   "cell_type": "code",
   "execution_count": 7,
   "id": "8130d35d",
   "metadata": {},
   "outputs": [
    {
     "name": "stdout",
     "output_type": "stream",
     "text": [
      "first number is : 6\n",
      "second number is : 9\n",
      "third number is : 7\n",
      "largest number is : 9\n"
     ]
    }
   ],
   "source": [
    "a = int(input( \"enter first number : \"  ))\n",
    "b = int(input(\"enter second number : \"))\n",
    "c = int(input(\"enter third number : \"))\n",
    "print(\"first number is :\",a)\n",
    "print(\"second number is :\",b)\n",
    "print(\"third number is :\",c)\n",
    "\n",
    "if a >= b and a >= c:\n",
    "    print(\"largest number is :\",a)\n",
    "elif b >= a and b >= c:\n",
    "    print(\"largest number is :\",b)\n",
    "else:\n",
    "    print(\"largest number is :\",c)  "
   ]
  },
  {
   "cell_type": "code",
   "execution_count": null,
   "id": "9d161373",
   "metadata": {},
   "outputs": [],
   "source": []
  }
 ],
 "metadata": {
  "kernelspec": {
   "display_name": "Python 3",
   "language": "python",
   "name": "python3"
  },
  "language_info": {
   "codemirror_mode": {
    "name": "ipython",
    "version": 3
   },
   "file_extension": ".py",
   "mimetype": "text/x-python",
   "name": "python",
   "nbconvert_exporter": "python",
   "pygments_lexer": "ipython3",
   "version": "3.12.6"
  }
 },
 "nbformat": 4,
 "nbformat_minor": 5
}
